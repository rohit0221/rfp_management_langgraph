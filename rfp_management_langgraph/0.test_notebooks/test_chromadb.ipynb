{
 "cells": [
  {
   "cell_type": "code",
   "execution_count": 11,
   "metadata": {},
   "outputs": [
    {
     "data": {
      "text/plain": [
       "True"
      ]
     },
     "execution_count": 11,
     "metadata": {},
     "output_type": "execute_result"
    }
   ],
   "source": [
    "\n",
    "import os\n",
    "from dotenv import load_dotenv\n",
    "load_dotenv()\n",
    "\n"
   ]
  },
  {
   "cell_type": "code",
   "execution_count": 12,
   "metadata": {},
   "outputs": [],
   "source": [
    "# ✅ Connect to ChromaDB\n",
    "import chromadb\n",
    "\n",
    "chroma_client = chromadb.PersistentClient(path=\"../chroma_db\")\n"
   ]
  },
  {
   "cell_type": "code",
   "execution_count": 13,
   "metadata": {},
   "outputs": [],
   "source": [
    "collections = chroma_client.list_collections()"
   ]
  },
  {
   "cell_type": "code",
   "execution_count": 14,
   "metadata": {},
   "outputs": [
    {
     "data": {
      "text/plain": [
       "['rfp_proposals']"
      ]
     },
     "execution_count": 14,
     "metadata": {},
     "output_type": "execute_result"
    }
   ],
   "source": [
    "collections"
   ]
  },
  {
   "cell_type": "code",
   "execution_count": 15,
   "metadata": {},
   "outputs": [],
   "source": [
    "collection = chroma_client.get_collection(name=\"rfp_proposals\")\n"
   ]
  },
  {
   "cell_type": "code",
   "execution_count": 16,
   "metadata": {},
   "outputs": [
    {
     "data": {
      "text/plain": [
       "['rfp_proposals']"
      ]
     },
     "execution_count": 16,
     "metadata": {},
     "output_type": "execute_result"
    }
   ],
   "source": [
    "collections"
   ]
  },
  {
   "cell_type": "code",
   "execution_count": 17,
   "metadata": {},
   "outputs": [],
   "source": [
    "results = collection.get(limit=5)\n"
   ]
  },
  {
   "cell_type": "code",
   "execution_count": 18,
   "metadata": {},
   "outputs": [
    {
     "data": {
      "text/plain": [
       "{'ids': ['proposal_1.pdf_chunk_0',\n",
       "  'proposal_1.pdf_chunk_1',\n",
       "  'proposal_1.pdf_chunk_2',\n",
       "  'proposal_1.pdf_chunk_3',\n",
       "  'proposal_1.pdf_chunk_4'],\n",
       " 'embeddings': None,\n",
       " 'documents': ['Supplier Proposal: CloudTech Solutions \\nProposal for AI-Powered Hybrid Cloud Management Suite \\n1. Supplier Information \\n• \\nCompany Name: CloudTech Solutions \\n• \\nHeadquarters: San Francisco, CA \\n• \\nContact: John Doe, VP of Cloud Services (johndoe@cloudtech.com) \\n• \\nWebsite: www.cloudtechsolutions.com \\n2. Executive Summary \\nCloudTech Solutions is pleased to present this proposal for the AI-Powered Hybrid Cloud',\n",
       "  'Management Suite. This solution is designed to enable enterprises to optimize multi-cloud \\noperations, enhance security compliance, and drive cost efficiencies through AI-driven automation. \\nOur platform provides seamless integration across AWS, Azure, and GCP while ensuring security, \\nreliability, and cost predictability. \\nWith a strong track record in cloud services and AI-powered automation, CloudTech Solutions brings',\n",
       "  'over a decade of experience in managing large-scale enterprise cloud environments. Our clients \\ninclude Fortune 500 companies in the financial, healthcare, and technology sectors. Our hybrid cloud \\nsuite is a market leader in intelligent cloud management, helping organizations scale their operations \\nefficiently. \\n3. Solution Overview \\n3.1. Objectives \\nThe AI-Powered Hybrid Cloud Management Suite aims to: \\n• \\nAutomate cloud workload distribution with AI-driven orchestration. \\n•',\n",
       "  '• \\nReduce cloud costs through predictive analytics and intelligent resource allocation. \\n• \\nStrengthen security with real-time compliance monitoring and automated incident response. \\n• \\nImprove operational efficiency through a centralized management dashboard. \\n3.2. Key Features & Capabilities \\n3.2.1. AI-Driven Cost Optimization \\n• \\nPredictive analytics to forecast cloud spending trends. \\n• \\nAI-based recommendations for reserved instance purchases and autoscaling strategies. \\n•',\n",
       "  '• \\nCost anomaly detection to identify and mitigate unexpected expenses. \\n• \\nReal-time FinOps dashboard with detailed usage breakdown. \\n3.2.2. Automated Workload Management \\n• \\nIntelligent scaling of cloud workloads across AWS, Azure, and GCP. \\n• \\nPolicy-based automation for workload distribution and redundancy.'],\n",
       " 'uris': None,\n",
       " 'data': None,\n",
       " 'metadatas': [{'contact_person': 'John Doe',\n",
       "   'email': 'johndoe@cloudtech.com',\n",
       "   'supplier': 'CloudTech Solutions'},\n",
       "  {'contact_person': 'John Doe',\n",
       "   'email': 'johndoe@cloudtech.com',\n",
       "   'supplier': 'CloudTech Solutions'},\n",
       "  {'contact_person': 'John Doe',\n",
       "   'email': 'johndoe@cloudtech.com',\n",
       "   'supplier': 'CloudTech Solutions'},\n",
       "  {'contact_person': 'John Doe',\n",
       "   'email': 'johndoe@cloudtech.com',\n",
       "   'supplier': 'CloudTech Solutions'},\n",
       "  {'contact_person': 'John Doe',\n",
       "   'email': 'johndoe@cloudtech.com',\n",
       "   'supplier': 'CloudTech Solutions'}],\n",
       " 'included': [<IncludeEnum.documents: 'documents'>,\n",
       "  <IncludeEnum.metadatas: 'metadatas'>]}"
      ]
     },
     "execution_count": 18,
     "metadata": {},
     "output_type": "execute_result"
    }
   ],
   "source": [
    "results"
   ]
  },
  {
   "cell_type": "code",
   "execution_count": 19,
   "metadata": {},
   "outputs": [],
   "source": [
    "stored_data = collection.get(include=[\"embeddings\"])\n"
   ]
  },
  {
   "cell_type": "code",
   "execution_count": 20,
   "metadata": {},
   "outputs": [
    {
     "data": {
      "text/plain": [
       "{'ids': ['proposal_1.pdf_chunk_0',\n",
       "  'proposal_1.pdf_chunk_1',\n",
       "  'proposal_1.pdf_chunk_2',\n",
       "  'proposal_1.pdf_chunk_3',\n",
       "  'proposal_1.pdf_chunk_4',\n",
       "  'proposal_1.pdf_chunk_5',\n",
       "  'proposal_1.pdf_chunk_6',\n",
       "  'proposal_1.pdf_chunk_7',\n",
       "  'proposal_1.pdf_chunk_8',\n",
       "  'proposal_1.pdf_chunk_9',\n",
       "  'proposal_1.pdf_chunk_10',\n",
       "  'proposal_1.pdf_chunk_11',\n",
       "  'proposal_1.pdf_chunk_12',\n",
       "  'proposal_1.pdf_chunk_13',\n",
       "  'proposal_1.pdf_chunk_14',\n",
       "  'proposal_1.pdf_chunk_15',\n",
       "  'proposal_1.pdf_chunk_16',\n",
       "  'proposal_2.pdf_chunk_0',\n",
       "  'proposal_2.pdf_chunk_1',\n",
       "  'proposal_2.pdf_chunk_2',\n",
       "  'proposal_2.pdf_chunk_3',\n",
       "  'proposal_2.pdf_chunk_4',\n",
       "  'proposal_2.pdf_chunk_5',\n",
       "  'proposal_2.pdf_chunk_6',\n",
       "  'proposal_2.pdf_chunk_7',\n",
       "  'proposal_2.pdf_chunk_8',\n",
       "  'proposal_2.pdf_chunk_9',\n",
       "  'proposal_2.pdf_chunk_10',\n",
       "  'proposal_2.pdf_chunk_11',\n",
       "  'proposal_3.pdf_chunk_0',\n",
       "  'proposal_3.pdf_chunk_1',\n",
       "  'proposal_3.pdf_chunk_2',\n",
       "  'proposal_3.pdf_chunk_3',\n",
       "  'proposal_3.pdf_chunk_4',\n",
       "  'proposal_3.pdf_chunk_5',\n",
       "  'proposal_3.pdf_chunk_6',\n",
       "  'proposal_3.pdf_chunk_7',\n",
       "  'proposal_3.pdf_chunk_8',\n",
       "  'proposal_3.pdf_chunk_9',\n",
       "  'proposal_3.pdf_chunk_10',\n",
       "  'proposal_3.pdf_chunk_11',\n",
       "  'proposal_3.pdf_chunk_12'],\n",
       " 'embeddings': array([[ 0.0070282 , -0.03306461, -0.00129936, ..., -0.01316559,\n",
       "         -0.01847112,  0.00503371],\n",
       "        [ 0.00285199, -0.02979928,  0.01559264, ..., -0.00396146,\n",
       "         -0.01254741,  0.01106145],\n",
       "        [ 0.0061054 , -0.03308212,  0.01494074, ..., -0.00613902,\n",
       "         -0.00962878, -0.01350853],\n",
       "        ...,\n",
       "        [ 0.0196021 , -0.01528069,  0.0124562 , ..., -0.00541191,\n",
       "          0.00995683,  0.00501228],\n",
       "        [-0.0028592 , -0.02350081,  0.03443048, ..., -0.00101006,\n",
       "         -0.02584955, -0.00493437],\n",
       "        [-0.00110449, -0.02636926,  0.01814272, ..., -0.00623223,\n",
       "         -0.00932757, -0.01979079]], shape=(42, 1536)),\n",
       " 'documents': None,\n",
       " 'uris': None,\n",
       " 'data': None,\n",
       " 'metadatas': None,\n",
       " 'included': [<IncludeEnum.embeddings: 'embeddings'>]}"
      ]
     },
     "execution_count": 20,
     "metadata": {},
     "output_type": "execute_result"
    }
   ],
   "source": [
    "stored_data"
   ]
  },
  {
   "cell_type": "code",
   "execution_count": null,
   "metadata": {},
   "outputs": [],
   "source": []
  }
 ],
 "metadata": {
  "kernelspec": {
   "display_name": "rfp-management-langgraph-McWK3HJW-py3.12",
   "language": "python",
   "name": "python3"
  },
  "language_info": {
   "codemirror_mode": {
    "name": "ipython",
    "version": 3
   },
   "file_extension": ".py",
   "mimetype": "text/x-python",
   "name": "python",
   "nbconvert_exporter": "python",
   "pygments_lexer": "ipython3",
   "version": "3.12.2"
  }
 },
 "nbformat": 4,
 "nbformat_minor": 2
}
