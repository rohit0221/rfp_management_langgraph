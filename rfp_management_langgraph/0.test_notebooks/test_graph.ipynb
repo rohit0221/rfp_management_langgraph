{
 "cells": [
  {
   "cell_type": "code",
   "execution_count": 2,
   "metadata": {},
   "outputs": [
    {
     "ename": "ModuleNotFoundError",
     "evalue": "No module named 'rfp_management_langgraph'",
     "output_type": "error",
     "traceback": [
      "\u001b[31m---------------------------------------------------------------------------\u001b[39m",
      "\u001b[31mModuleNotFoundError\u001b[39m                       Traceback (most recent call last)",
      "\u001b[36mCell\u001b[39m\u001b[36m \u001b[39m\u001b[32mIn[2]\u001b[39m\u001b[32m, line 2\u001b[39m\n\u001b[32m      1\u001b[39m \u001b[38;5;28;01mfrom\u001b[39;00m\u001b[38;5;250m \u001b[39m\u001b[34;01mlanggraph\u001b[39;00m\u001b[34;01m.\u001b[39;00m\u001b[34;01mgraph\u001b[39;00m\u001b[38;5;250m \u001b[39m\u001b[38;5;28;01mimport\u001b[39;00m StateGraph, START, END\n\u001b[32m----> \u001b[39m\u001b[32m2\u001b[39m \u001b[38;5;28;01mfrom\u001b[39;00m\u001b[38;5;250m \u001b[39m\u001b[34;01mrfp_management_langgraph\u001b[39;00m\u001b[34;01m.\u001b[39;00m\u001b[34;01mstate\u001b[39;00m\u001b[38;5;250m \u001b[39m\u001b[38;5;28;01mimport\u001b[39;00m ProcurementState\n\u001b[32m      3\u001b[39m \u001b[38;5;28;01mfrom\u001b[39;00m\u001b[38;5;250m \u001b[39m\u001b[34;01mrfp_management_langgraph\u001b[39;00m\u001b[34;01m.\u001b[39;00m\u001b[34;01mnodes\u001b[39;00m\u001b[38;5;250m \u001b[39m\u001b[38;5;28;01mimport\u001b[39;00m proposal_processor, rfp_analysis\n\u001b[32m      4\u001b[39m \u001b[38;5;66;03m# from state import ProcurementState\u001b[39;00m\n\u001b[32m      5\u001b[39m \u001b[38;5;66;03m# from nodes import proposal_processor, rfp_analysis\u001b[39;00m\n\u001b[32m      6\u001b[39m \n\u001b[32m      7\u001b[39m \u001b[38;5;66;03m# ✅ Define graph with a meaningful name\u001b[39;00m\n",
      "\u001b[31mModuleNotFoundError\u001b[39m: No module named 'rfp_management_langgraph'"
     ]
    }
   ],
   "source": [
    "from langgraph.graph import StateGraph, START, END\n",
    "from rfp_management_langgraph.state import ProcurementState\n",
    "from rfp_management_langgraph.nodes import proposal_processor, rfp_analysis\n",
    "# from state import ProcurementState\n",
    "# from nodes import proposal_processor, rfp_analysis\n",
    "\n",
    "# ✅ Define graph with a meaningful name\n",
    "rfp_analysis_workflow = StateGraph(ProcurementState)\n",
    "\n",
    "# ✅ Define edges\n",
    "rfp_analysis_workflow.add_edge(START, \"ProposalProcessor\")\n",
    "rfp_analysis_workflow.add_node(\"ProposalProcessor\", proposal_processor)\n",
    "rfp_analysis_workflow.add_edge(\"ProposalProcessor\", \"RFPAnalysis\")\n",
    "\n",
    "# ✅ Add RFP Analysis node\n",
    "rfp_analysis_workflow.add_node(\"RFPAnalysis\", rfp_analysis)\n",
    "rfp_analysis_workflow.add_edge(\"RFPAnalysis\", END)\n",
    "\n",
    "# ✅ Compile graph\n",
    "graph = rfp_analysis_workflow.compile()\n",
    "\n"
   ]
  },
  {
   "cell_type": "code",
   "execution_count": 1,
   "metadata": {},
   "outputs": [
    {
     "ename": "ModuleNotFoundError",
     "evalue": "No module named 'state'",
     "output_type": "error",
     "traceback": [
      "\u001b[31m---------------------------------------------------------------------------\u001b[39m",
      "\u001b[31mModuleNotFoundError\u001b[39m                       Traceback (most recent call last)",
      "\u001b[36mCell\u001b[39m\u001b[36m \u001b[39m\u001b[32mIn[1]\u001b[39m\u001b[32m, line 2\u001b[39m\n\u001b[32m      1\u001b[39m \u001b[38;5;28;01mfrom\u001b[39;00m\u001b[38;5;250m \u001b[39m\u001b[34;01mlanggraph\u001b[39;00m\u001b[34;01m.\u001b[39;00m\u001b[34;01mgraph\u001b[39;00m\u001b[38;5;250m \u001b[39m\u001b[38;5;28;01mimport\u001b[39;00m StateGraph, START, END\n\u001b[32m----> \u001b[39m\u001b[32m2\u001b[39m \u001b[38;5;28;01mfrom\u001b[39;00m\u001b[38;5;250m \u001b[39m\u001b[34;01mstate\u001b[39;00m\u001b[38;5;250m \u001b[39m\u001b[38;5;28;01mimport\u001b[39;00m ProcurementState\n\u001b[32m      3\u001b[39m \u001b[38;5;28;01mfrom\u001b[39;00m\u001b[38;5;250m \u001b[39m\u001b[34;01mnodes\u001b[39;00m\u001b[38;5;250m \u001b[39m\u001b[38;5;28;01mimport\u001b[39;00m proposal_processor, rfp_analysis\n\u001b[32m      5\u001b[39m \u001b[38;5;66;03m# ✅ Define graph with a meaningful name\u001b[39;00m\n",
      "\u001b[31mModuleNotFoundError\u001b[39m: No module named 'state'"
     ]
    }
   ],
   "source": [
    "from langgraph.graph import StateGraph, START, END\n",
    "from state import ProcurementState\n",
    "from nodes import proposal_processor, rfp_analysis\n",
    "\n",
    "# ✅ Define graph with a meaningful name\n",
    "rfp_analysis_workflow = StateGraph(ProcurementState)\n",
    "\n",
    "# ✅ Define edges\n",
    "rfp_analysis_workflow.add_edge(START, \"ProposalProcessor\")\n",
    "rfp_analysis_workflow.add_node(\"ProposalProcessor\", proposal_processor)\n",
    "rfp_analysis_workflow.add_edge(\"ProposalProcessor\", \"RFPAnalysis\")\n",
    "\n",
    "# ✅ Add RFP Analysis node\n",
    "rfp_analysis_workflow.add_node(\"RFPAnalysis\", rfp_analysis)\n",
    "rfp_analysis_workflow.add_edge(\"RFPAnalysis\", END)\n",
    "\n",
    "# ✅ Compile graph\n",
    "graph = rfp_analysis_workflow.compile()\n",
    "\n"
   ]
  },
  {
   "cell_type": "code",
   "execution_count": null,
   "metadata": {},
   "outputs": [],
   "source": [
    "from IPython.display import Image, display\n",
    "\n",
    "display(Image(graph.get_graph().draw_mermaid_png()))"
   ]
  }
 ],
 "metadata": {
  "kernelspec": {
   "display_name": "rfp-management-langgraph-McWK3HJW-py3.12",
   "language": "python",
   "name": "python3"
  },
  "language_info": {
   "codemirror_mode": {
    "name": "ipython",
    "version": 3
   },
   "file_extension": ".py",
   "mimetype": "text/x-python",
   "name": "python",
   "nbconvert_exporter": "python",
   "pygments_lexer": "ipython3",
   "version": "3.12.2"
  }
 },
 "nbformat": 4,
 "nbformat_minor": 2
}
